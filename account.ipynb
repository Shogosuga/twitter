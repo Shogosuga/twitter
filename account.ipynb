{
 "cells": [
  {
   "cell_type": "code",
   "execution_count": 1,
   "metadata": {},
   "outputs": [],
   "source": [
    "import tweepy\n",
    "import pandas as pd"
   ]
  },
  {
   "cell_type": "code",
   "execution_count": 2,
   "metadata": {},
   "outputs": [],
   "source": [
    "CONSUMER_KEY = '8qqYKpCmhHz12maFnAZtH1Tiq'\n",
    "\n",
    "CONSUMER_SECRET = 'OVsabb6XA6wXSBwcBrgjb5ZkZbRDkgoEfo3qRHlNygbDrFoPGk'\n",
    "\n",
    "ACCESS_TOKEN = '1430529673-8DKgzTYLxQJSsNl3R4cr7ojFagvGHXgWG4K3oEw'\n",
    "\n",
    "ACCESS_SECRET = 'Y1twCN883RURgdR1BZmRbMEvbHmlZ851eO42BAzvWNCaE'\n",
    "\n",
    "\n",
    "\n",
    "auth = tweepy.OAuthHandler(CONSUMER_KEY, CONSUMER_SECRET)\n",
    "\n",
    "auth.set_access_token(ACCESS_TOKEN, ACCESS_SECRET)\n",
    "\n",
    "\n",
    "\n",
    "api = tweepy.API(auth)"
   ]
  },
  {
   "cell_type": "code",
   "execution_count": 3,
   "metadata": {},
   "outputs": [],
   "source": [
    "screen_name = \"tyksgk\""
   ]
  },
  {
   "cell_type": "code",
   "execution_count": 6,
   "metadata": {},
   "outputs": [
    {
     "name": "stdout",
     "output_type": "stream",
     "text": [
      "       フォロワー数 フォロー数   投稿数\n",
      "tyksgk  29930   366  4423\n"
     ]
    }
   ],
   "source": [
    "class Account:\n",
    "\n",
    "    def __init__(self,screen_name):\n",
    "        self.screen_name = screen_name\n",
    "    \n",
    "    def extract_twitter_data(self,screen_name):\n",
    "        twitterData = api.get_user(screen_name)\n",
    "        account_information = pd.DataFrame({screen_name : [ twitterData.followers_count ,  str(twitterData.friends_count) , str(twitterData.statuses_count)]})\n",
    "        account_information = account_information.T\n",
    "        account_information.columns = ['フォロワー数' , 'フォロー数' , '投稿数']\n",
    "        \n",
    "        print(account_information)\n",
    "    \n",
    "\n",
    "    \n",
    "account = Account(screen_name)\n",
    "account.extract_twitter_data(screen_name)"
   ]
  },
  {
   "cell_type": "code",
   "execution_count": null,
   "metadata": {},
   "outputs": [],
   "source": []
  }
 ],
 "metadata": {
  "kernelspec": {
   "display_name": "Python 3",
   "language": "python",
   "name": "python3"
  },
  "language_info": {
   "codemirror_mode": {
    "name": "ipython",
    "version": 3
   },
   "file_extension": ".py",
   "mimetype": "text/x-python",
   "name": "python",
   "nbconvert_exporter": "python",
   "pygments_lexer": "ipython3",
   "version": "3.6.7"
  }
 },
 "nbformat": 4,
 "nbformat_minor": 2
}
